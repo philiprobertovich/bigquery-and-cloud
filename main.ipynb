{
 "cells": [
  {
   "cell_type": "code",
   "execution_count": 2,
   "metadata": {},
   "outputs": [],
   "source": [
    "# Create BigQuery client\n",
    "from google.cloud import bigquery\n",
    "\n",
    "client = bigquery.Client()"
   ]
  },
  {
   "cell_type": "code",
   "execution_count": 10,
   "metadata": {
    "vscode": {
     "languageId": "shellscript"
    }
   },
   "outputs": [
    {
     "name": "stdout",
     "output_type": "stream",
     "text": [
      "Dataset 'deb-01-372120:plants' successfully created.\n"
     ]
    }
   ],
   "source": [
    "%%bash\n",
    "# Create plants dataset\n",
    "bq mk -d --data_location=\"US\" plants"
   ]
  },
  {
   "cell_type": "code",
   "execution_count": 11,
   "metadata": {},
   "outputs": [
    {
     "name": "stdout",
     "output_type": "stream",
     "text": [
      "Listing datasets:\n",
      "dataset_id: `lego` , full name: `deb-01-372120:lego`\n",
      "dataset_id: `my_vinyls` , full name: `deb-01-372120:my_vinyls`\n",
      "dataset_id: `plants` , full name: `deb-01-372120:plants`\n",
      "dataset_id: `sf_bikeshare` , full name: `deb-01-372120:sf_bikeshare`\n"
     ]
    }
   ],
   "source": [
    "# Listing dataset\n",
    "print(\"Listing datasets:\")\n",
    "\n",
    "for dataset in client.list_datasets():\n",
    "  dataset_id = dataset.dataset_id\n",
    "  print(f\"dataset_id: `{dataset_id}` , full name: `{dataset.full_dataset_id}`\")"
   ]
  },
  {
   "cell_type": "code",
   "execution_count": 13,
   "metadata": {},
   "outputs": [
    {
     "name": "stdout",
     "output_type": "stream",
     "text": [
      "table name: flower_shop\n"
     ]
    }
   ],
   "source": [
    "# Lists flower_shop table in plants dataset\n",
    "dataset_ref = \"plants\"\n",
    "tables = client.list_tables(dataset_ref)\n",
    "for table in tables:\n",
    "  print(f\"table name: {table.table_id}\")"
   ]
  },
  {
   "cell_type": "code",
   "execution_count": null,
   "metadata": {},
   "outputs": [],
   "source": []
  }
 ],
 "metadata": {
  "kernelspec": {
   "display_name": "venv",
   "language": "python",
   "name": "python3"
  },
  "language_info": {
   "codemirror_mode": {
    "name": "ipython",
    "version": 3
   },
   "file_extension": ".py",
   "mimetype": "text/x-python",
   "name": "python",
   "nbconvert_exporter": "python",
   "pygments_lexer": "ipython3",
   "version": "3.7.15"
  },
  "orig_nbformat": 4,
  "vscode": {
   "interpreter": {
    "hash": "72e6cc7702b4c76eca0887946949c7cbdeef580de9e3d5f809c7fdd5c9205a0b"
   }
  }
 },
 "nbformat": 4,
 "nbformat_minor": 2
}
